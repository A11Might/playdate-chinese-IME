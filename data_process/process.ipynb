{
 "cells": [
  {
   "cell_type": "code",
   "execution_count": 57,
   "metadata": {},
   "outputs": [],
   "source": [
    "import json\n",
    "\n",
    "with open('char_base_latinpinyin.json', encoding='utf-8') as f:\n",
    "    py_data = json.load(f)\n"
   ]
  },
  {
   "cell_type": "code",
   "execution_count": 58,
   "metadata": {},
   "outputs": [],
   "source": [
    "# sort frequence\n",
    "sort_res_lst = []\n",
    "for freq in range(0,4):\n",
    "    for i in py_data:\n",
    "        if i['frequency'] == freq:\n",
    "            sort_res_lst.append(i)"
   ]
  },
  {
   "cell_type": "code",
   "execution_count": 59,
   "metadata": {},
   "outputs": [],
   "source": [
    "# make pinyin\n",
    "res = {}\n",
    "\n",
    "for i in sort_res_lst:\n",
    "    for pinyin in i['pinyin']:\n",
    "        if pinyin not in res.keys():\n",
    "            res[pinyin] = [i['char']]\n",
    "        else:\n",
    "            if i['char'] not in res[pinyin]:\n",
    "                res[pinyin].append(i['char'])"
   ]
  },
  {
   "cell_type": "code",
   "execution_count": 60,
   "metadata": {},
   "outputs": [],
   "source": [
    "with open('zh_word.json', 'w', encoding='utf-8') as json_file:\n",
    "    json.dump(res, json_file, ensure_ascii=False, indent=1)"
   ]
  },
  {
   "cell_type": "markdown",
   "metadata": {},
   "source": [
    "1、【a】ā á ǎ à \n",
    "\n",
    "2、【o】ō ó ǒ ò\n",
    "\n",
    "3、【e】ē é ě è\n",
    "\n",
    "4、【i】ī í ǐ ì\n",
    "\n",
    "5、【u】ū ú ǔ ù\n",
    "\n",
    "6、【ü】ǖ ǘ ǚ ǜ"
   ]
  },
  {
   "cell_type": "code",
   "execution_count": 5,
   "metadata": {},
   "outputs": [
    {
     "name": "stdout",
     "output_type": "stream",
     "text": [
      "['W', 'e', ' ', 'p', 'l', 'a', 'n', ',', ' ', 't', 'h', 'i', 'n', 'k', ',', ' ', 'a', 'n', 'd', ' ', 'a', 'c', 't', ',', ' ', 'o', 'f', 't', 'e', 'n', ' ', 'w', 'i', 't', 'h', ' ', 'a', 'p', 'p', 'a', 'r', 'e', 'n', 't', ' ', 'f', 'r', 'e', 'e', 'd', 'o', 'm', ',', ' ', 'b', 'u', 't', ' ', 'm', 'o', 's', 't', ' ', 'o', 'f', ' ', 't', 'h', 'e', ' ', 't', 'i', 'm', 'e', ' ', 'o', 'u', 'r', ' ', 'l', 'i', 'v', 'e', 's', ' ', \"'\", 'h', 'a', 'p', 'p', 'e', 'n', ' ', 't', 'o', ' ', 'u', 's', \"'\", ',', ' ', 'a', 'n', 'd', ' ', 'w', 'e', ' ', 'o', 'n', 'l', 'y', ' ', 'r', 'e', 't', 'r', 'o', 's', 'p', 'e', 'c', 't', 'i', 'v', 'e', 'l', 'y', ' ', 't', 'u', 'r', 'n', ' ', 't', 'h', 'i', 's', ' ', 'h', 'a', 'p', 'p', 'e', 'n', 's', 't', 'a', 'n', 'c', 'e', ' ', 'i', 'n', 't', 'o', ' ', 'a', ' ', 'c', 'o', 'h', 'e', 'r', 'e', 'n', 't', ' ', 'n', 'a', 'r', 'r', 'a', 't', 'i', 'v', 'e', ' ', 'o', 'f', ' ', 'f', 'u', 'l', 'f', 'i', 'l', 'l', 'e', 'd', ' ', 'i', 'n', 't', 'e', 'n', 't', 'i', 'o', 'n', 's', '.', '我', '们', '常', '常', '规', '划', '、', '思', '考', '、', '行', '动', '，', '表', '面', '上', '看', '似', '自', '由', '，', '但', '大', '多', '数', '时', '候', '，', '我', '们', '的', '生', '活', '是', '“', '发', '生', '在', '我', '们', '身', '上', '”', '的', '，', '只', '有', '事', '后', '我', '们', '才', '将', '这', '种', '偶', '然', '性', '转', '化', '为', '一', '个', '连', '贯', '的', '、', '实', '现', '意', '图', '的', '故', '事', '。']\n"
     ]
    }
   ],
   "source": [
    "lst = []\n",
    "txt = \"We plan, think, and act, often with apparent freedom, but most of the time our lives 'happen to us', and we only retrospectively turn this happenstance into a coherent narrative of fulfilled intentions.我们常常规划、思考、行动，表面上看似自由，但大多数时候，我们的生活是“发生在我们身上”的，只有事后我们才将这种偶然性转化为一个连贯的、实现意图的故事。\"\n",
    "for i in txt:\n",
    "    lst.append(i)\n",
    "\n",
    "print(lst)"
   ]
  }
 ],
 "metadata": {
  "kernelspec": {
   "display_name": "Python 3",
   "language": "python",
   "name": "python3"
  },
  "language_info": {
   "codemirror_mode": {
    "name": "ipython",
    "version": 3
   },
   "file_extension": ".py",
   "mimetype": "text/x-python",
   "name": "python",
   "nbconvert_exporter": "python",
   "pygments_lexer": "ipython3",
   "version": "3.11.8"
  }
 },
 "nbformat": 4,
 "nbformat_minor": 2
}
