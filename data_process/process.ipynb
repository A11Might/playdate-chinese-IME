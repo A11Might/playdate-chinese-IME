{
 "cells": [
  {
   "cell_type": "code",
   "execution_count": 57,
   "metadata": {},
   "outputs": [],
   "source": [
    "import json\n",
    "\n",
    "with open('char_base_latinpinyin.json', encoding='utf-8') as f:\n",
    "    py_data = json.load(f)\n"
   ]
  },
  {
   "cell_type": "code",
   "execution_count": 58,
   "metadata": {},
   "outputs": [],
   "source": [
    "# sort frequence\n",
    "sort_res_lst = []\n",
    "for freq in range(0,4):\n",
    "    for i in py_data:\n",
    "        if i['frequency'] == freq:\n",
    "            sort_res_lst.append(i)"
   ]
  },
  {
   "cell_type": "code",
   "execution_count": 59,
   "metadata": {},
   "outputs": [],
   "source": [
    "# make pinyin\n",
    "res = {}\n",
    "\n",
    "for i in sort_res_lst:\n",
    "    for pinyin in i['pinyin']:\n",
    "        if pinyin not in res.keys():\n",
    "            res[pinyin] = [i['char']]\n",
    "        else:\n",
    "            if i['char'] not in res[pinyin]:\n",
    "                res[pinyin].append(i['char'])"
   ]
  },
  {
   "cell_type": "code",
   "execution_count": 60,
   "metadata": {},
   "outputs": [],
   "source": [
    "with open('zh_word.json', 'w', encoding='utf-8') as json_file:\n",
    "    json.dump(res, json_file, ensure_ascii=False, indent=1)"
   ]
  },
  {
   "cell_type": "markdown",
   "metadata": {},
   "source": [
    "1、【a】ā á ǎ à \n",
    "\n",
    "2、【o】ō ó ǒ ò\n",
    "\n",
    "3、【e】ē é ě è\n",
    "\n",
    "4、【i】ī í ǐ ì\n",
    "\n",
    "5、【u】ū ú ǔ ù\n",
    "\n",
    "6、【ü】ǖ ǘ ǚ ǜ"
   ]
  },
  {
   "cell_type": "code",
   "execution_count": 5,
   "metadata": {},
   "outputs": [
    {
     "name": "stdout",
     "output_type": "stream",
     "text": [
      "['试', '着', '进', '入', '笔', '记', '后', '删', '除', '我', '吧', '！']\n"
     ]
    }
   ],
   "source": [
    "lst = []\n",
    "txt = \"试着进入笔记后删除我吧！\"\n",
    "for i in txt:\n",
    "    lst.append(i)\n",
    "\n",
    "print(lst)"
   ]
  }
 ],
 "metadata": {
  "kernelspec": {
   "display_name": "Python 3",
   "language": "python",
   "name": "python3"
  },
  "language_info": {
   "codemirror_mode": {
    "name": "ipython",
    "version": 3
   },
   "file_extension": ".py",
   "mimetype": "text/x-python",
   "name": "python",
   "nbconvert_exporter": "python",
   "pygments_lexer": "ipython3",
   "version": "3.10.8"
  }
 },
 "nbformat": 4,
 "nbformat_minor": 2
}
